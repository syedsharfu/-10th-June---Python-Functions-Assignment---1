{
 "cells": [
  {
   "cell_type": "raw",
   "id": "7feea81e-c858-42d1-9ac6-964dbe116d25",
   "metadata": {},
   "source": [
    "1. In Python, what is the difference between a built-in function and a user-defined function? Provide an example of each."
   ]
  },
  {
   "cell_type": "raw",
   "id": "b007d000-5da8-4a96-a0e7-febfedcd92fb",
   "metadata": {},
   "source": [
    "Built-in Functions: Built-in functions are functions that come pre-defined in Python and are part of the Python standard library.\n",
    "These functions are available for use without the need for additional definitions.\n",
    "Examples of built-in functions include print(), len(), max(), min(), abs(), etc."
   ]
  },
  {
   "cell_type": "code",
   "execution_count": 1,
   "id": "920394f6-e40a-4281-9f14-ddca6a42556e",
   "metadata": {},
   "outputs": [
    {
     "name": "stdout",
     "output_type": "stream",
     "text": [
      "The length of the list is: 5\n"
     ]
    }
   ],
   "source": [
    "# Using the built-in len() function to get the length of a list\n",
    "my_list = [1, 2, 3, 4, 5]\n",
    "length = len(my_list)\n",
    "print(f\"The length of the list is: {length}\")\n"
   ]
  },
  {
   "cell_type": "raw",
   "id": "7bee2b90-c17c-41e8-bfa4-ac5199ff0b7c",
   "metadata": {},
   "source": [
    "User-Defined Functions: User-defined functions are created by the programmer to perform a specific task or set of tasks.\n",
    "These functions are defined using the def keyword, followed by the function name, parameters, and a block of code.\n",
    "They are useful for organizing code into modular and reusable components."
   ]
  },
  {
   "cell_type": "code",
   "execution_count": 2,
   "id": "c0008eca-fd03-4f3f-be4f-bded45b7f299",
   "metadata": {},
   "outputs": [
    {
     "name": "stdout",
     "output_type": "stream",
     "text": [
      "The square of 5 is: 25\n"
     ]
    }
   ],
   "source": [
    "# Defining a simple user-defined function to calculate the square of a number\n",
    "def square(x):\n",
    "    return x ** 2\n",
    "# Using the user-defined function to calculate the square of 5\n",
    "result = square(5)\n",
    "print(f\"The square of 5 is: {result}\")\n"
   ]
  },
  {
   "cell_type": "raw",
   "id": "ad095714-4a68-4e1d-ae69-d5ffce1bef65",
   "metadata": {},
   "source": [
    "2. How can you pass arguments to a function in Python? Explain the difference between positional arguments and keyword arguments."
   ]
  },
  {
   "cell_type": "raw",
   "id": "d405ca4a-db74-44b4-b170-6de2140705d1",
   "metadata": {},
   "source": [
    "Positional Arguments: Positional arguments are the most straightforward way to pass arguments to a function.\n",
    "The values are passed to the function based on their position or order in the function definition.\n",
    "The order and number of arguments must match the function's parameter list."
   ]
  },
  {
   "cell_type": "code",
   "execution_count": 4,
   "id": "dddd40a3-9b2c-4b44-80d4-e6da1c0f36c7",
   "metadata": {},
   "outputs": [
    {
     "name": "stdout",
     "output_type": "stream",
     "text": [
      "Hello, Alice!\n"
     ]
    }
   ],
   "source": [
    "def greet(name, greeting):\n",
    "    print(f\"{greeting}, {name}!\")\n",
    "\n",
    "# Calling the function with positional arguments\n",
    "greet(\"Alice\", \"Hello\")\n",
    "\n",
    "#In this example, \"Alice\" is assigned to the name parameter, and \"Hello\" is assigned to the greeting parameter based on their order."
   ]
  },
  {
   "cell_type": "raw",
   "id": "28070ba5-a033-4b68-bc13-ad7bace02c6f",
   "metadata": {},
   "source": [
    "Keyword Arguments: Keyword arguments are passed to a function using the parameter names, explicitly specifying which value corresponds to which parameter. This allows you to pass arguments out of order or skip certain arguments."
   ]
  },
  {
   "cell_type": "code",
   "execution_count": 3,
   "id": "6fb9d876-1a22-4b9a-ac69-880c633a122b",
   "metadata": {},
   "outputs": [
    {
     "name": "stdout",
     "output_type": "stream",
     "text": [
      "Hi, Bob!\n"
     ]
    }
   ],
   "source": [
    "def greet(name, greeting):\n",
    "    print(f\"{greeting}, {name}!\")\n",
    "\n",
    "# Calling the function with keyword arguments\n",
    "greet(greeting=\"Hi\", name=\"Bob\")\n",
    "#In this example, the function is called with arguments in a different order, but the keyword specifies which value is assigned to which parameter."
   ]
  },
  {
   "cell_type": "raw",
   "id": "893a8bc5-3e0d-475a-9bd3-fb9b0ea47ad9",
   "metadata": {},
   "source": [
    "3.What is the purpose of the return statement in a function? Can a function have multiple return statements? Explain with an example."
   ]
  },
  {
   "cell_type": "raw",
   "id": "c4cedf0e-55db-44d9-875b-87f568ed6e1d",
   "metadata": {},
   "source": [
    "The return statement in a function in Python serves the purpose of ending the execution of the function and returning a value to the caller. When a function encounters a return statement, it immediately exits, and the specified value is sent back to the point where the function was called.\n",
    "A function can indeed have multiple return statements, but only one of them will be executed. The purpose of having multiple return statements is to provide different return values based on different conditions within the function."
   ]
  },
  {
   "cell_type": "code",
   "execution_count": 1,
   "id": "4b73257b-4920-43c6-ab5c-97432560242d",
   "metadata": {},
   "outputs": [
    {
     "name": "stdout",
     "output_type": "stream",
     "text": [
      "Result for 5: 25\n",
      "Result for -3: -27\n",
      "Result for 0: 0\n"
     ]
    }
   ],
   "source": [
    "def calculate_square_or_cube(number):\n",
    "    if number > 0:\n",
    "        return number ** 2  # Return the square for positive numbers\n",
    "    elif number < 0:\n",
    "        return number ** 3  # Return the cube for negative numbers\n",
    "    else:\n",
    "        return 0  # Return 0 for zero\n",
    "\n",
    "# Examples of calling the function\n",
    "result1 = calculate_square_or_cube(5)\n",
    "result2 = calculate_square_or_cube(-3)\n",
    "result3 = calculate_square_or_cube(0)\n",
    "\n",
    "print(f\"Result for 5: {result1}\")   # Outputs: Result for 5: 25\n",
    "print(f\"Result for -3: {result2}\")  # Outputs: Result for -3: -27\n",
    "print(f\"Result for 0: {result3}\")    # Outputs: Result for 0: 0\n"
   ]
  },
  {
   "cell_type": "raw",
   "id": "71f0036f-61d9-46ad-a54f-aa5b7b1708fd",
   "metadata": {},
   "source": [
    "4. What are lambda functions in Python? How are they different from regular functions? Provide an example where a lambda function can be useful."
   ]
  },
  {
   "cell_type": "raw",
   "id": "50daf254-be5f-4a7b-a47b-4afa0ee0cd89",
   "metadata": {},
   "source": [
    "here are some key points about lambda functions in Python, each point is a one-liner:\n",
    "\n",
    "Lambda functions are small, anonymous functions defined with the lambda keyword.\n",
    "They can take any number of arguments but can only have one expression.\n",
    "The expression is evaluated and returned when the function is called.\n",
    "Lambda functions do not require a return statement, the expression is implicitly returned.\n",
    "They can be used wherever function objects are required, like inside functions like map(), filter(), and reduce().\n",
    "You can't include statements like loops, if, or else in lambda functions; only expressions are allowed.\n",
    "Lambda functions are useful for small tasks that are not reused throughout your code.\n",
    "They can be assigned to variables and used like regular functions.\n",
    "Lambda functions in Python are anonymous, one-line functions defined using the lambda keyword. They are also known as anonymous functions because they don't require a name like regular functions defined using def. Lambda functions are typically used for short-lived, simple operations where a full function definition would be overkill.\n",
    "\n",
    "lambda arguments: expression\n",
    "\n",
    "Here, arguments are the input parameters, and expression is a single expression that the function evaluates and returns. Lambda functions are often used for small operations where defining a regular function seems unnecessary."
   ]
  },
  {
   "cell_type": "code",
   "execution_count": 2,
   "id": "09e65728-6e39-4efa-bcaa-251e881a7255",
   "metadata": {},
   "outputs": [
    {
     "name": "stdout",
     "output_type": "stream",
     "text": [
      "Result from regular function: 25\n",
      "Result from lambda function: 25\n"
     ]
    }
   ],
   "source": [
    "# Regular function\n",
    "def square(x):\n",
    "    return x ** 2\n",
    "\n",
    "# Lambda function\n",
    "square_lambda = lambda x: x ** 2\n",
    "\n",
    "# Using both functions\n",
    "result1 = square(5)\n",
    "result2 = square_lambda(5)\n",
    "\n",
    "print(f\"Result from regular function: {result1}\")   # Outputs: Result from regular function: 25\n",
    "print(f\"Result from lambda function: {result2}\")    # Outputs: Result from lambda function: 25\n"
   ]
  },
  {
   "cell_type": "raw",
   "id": "656b76c9-85d3-4b08-9adb-bf803c340175",
   "metadata": {},
   "source": [
    "5. How does the concept of \"scope\" apply to functions in Python? Explain the difference between local scope and global scope"
   ]
  },
  {
   "cell_type": "raw",
   "id": "35a3eddf-15a5-4309-96ab-06764a6c36e4",
   "metadata": {},
   "source": [
    "In Python, the concept of \"scope\" refers to the region or context in which a variable is defined and can be accessed. There are two main types of scope in Python: local scope and global scope. This concept is particularly relevant when dealing with functions.\n",
    "\n",
    "Local Scope: A variable defined inside a function has local scope. It is only accessible within that specific function and cannot be directly accessed from outside the function. Local variables are created when the function is called and destroyed when the function completes.\n",
    "Global Scope: A variable defined outside any function or at the top level of a script has global scope. It is accessible from anywhere in the code, including within functions. Global variables persist throughout the entire program."
   ]
  },
  {
   "cell_type": "raw",
   "id": "1c3c0af8-e6c7-4cc7-bf44-504a12df466b",
   "metadata": {},
   "source": [
    "6. How can you use the \"return\" statement in a Python function to return multiple values?"
   ]
  },
  {
   "cell_type": "raw",
   "id": "49f927bc-2d85-4567-9aea-6f3594529bc6",
   "metadata": {},
   "source": [
    "In Python, a function can return multiple values by using the return statement followed by a tuple, list, or any other iterable containing the values. When the function is called, these values can be unpacked into separate variables or used as a whole iterable."
   ]
  },
  {
   "cell_type": "code",
   "execution_count": 3,
   "id": "8f4d10a2-1942-424c-8beb-925224da9a8d",
   "metadata": {},
   "outputs": [
    {
     "name": "stdout",
     "output_type": "stream",
     "text": [
      "Total: 45\n",
      "Average: 9.0\n",
      "Max: 15\n",
      "Min: 5\n"
     ]
    }
   ],
   "source": [
    "def calculate_stats(numbers):\n",
    "    # Calculate and return multiple values\n",
    "    total = sum(numbers)\n",
    "    average = total / len(numbers)\n",
    "    max_value = max(numbers)\n",
    "    min_value = min(numbers)\n",
    "    return total, average, max_value, min_value\n",
    "# Call the function with a list of numbers\n",
    "numbers_list = [10, 5, 8, 15, 7]\n",
    "result_tuple = calculate_stats(numbers_list)\n",
    "# Unpack the tuple into separate variables\n",
    "total_sum, average_value, max_number, min_number = result_tuple\n",
    "# Print the results\n",
    "print(f\"Total: {total_sum}\")\n",
    "print(f\"Average: {average_value}\")\n",
    "print(f\"Max: {max_number}\")\n",
    "print(f\"Min: {min_number}\")"
   ]
  },
  {
   "cell_type": "raw",
   "id": "ad47e7a6-4a6e-46e3-8a6b-3740cd86bab6",
   "metadata": {},
   "source": [
    "7. What is the difference between the \"pass by value\" and \"pass by reference\" concepts when it comes to function arguments in Python?"
   ]
  },
  {
   "cell_type": "raw",
   "id": "26032084-1f96-4f67-871a-5b50ab1ca549",
   "metadata": {},
   "source": [
    "In Python, the terms \"pass by value\" and \"pass by reference\" are often used in the context of function arguments, but it's essential to understand that Python uses a mechanism that is different from both of these concepts.\n",
    "Pass by Value: In a \"pass by value\" system, the value of the actual parameter (the argument passed to a function) is copied to the formal parameter (the parameter defined in the function).\n",
    "Changes made to the formal parameter inside the function do not affect the actual parameter.\n",
    "Pass by Reference:In a \"pass by reference\" system, instead of copying the value of the actual parameter, a reference (memory address) to the actual parameter is passed to the formal parameter.\n",
    "Changes made to the formal parameter inside the function directly affect the actual parameter because they refer to the same memory location."
   ]
  },
  {
   "cell_type": "raw",
   "id": "90841915-9eca-471c-baeb-3a915f8067cf",
   "metadata": {},
   "source": [
    "8. Create a function that can intake integer or decimal value and do following operations:\n",
    "a. Logarithmic function (log x)\n",
    "b. Exponential function (exp(x))\n",
    "c. Power function with base 2 (2x)\n",
    "d. Square root"
   ]
  },
  {
   "cell_type": "code",
   "execution_count": 4,
   "id": "7ae014c9-cb8b-480d-9992-c0eb5e57d8d2",
   "metadata": {},
   "outputs": [
    {
     "name": "stdout",
     "output_type": "stream",
     "text": [
      "Input Value: 4.0\n",
      "Logarithmic: 1.3862943611198906\n",
      "Exponential: 54.598150033144236\n",
      "Power of Two: 16.0\n",
      "Square Root: 2.0\n"
     ]
    }
   ],
   "source": [
    "import math\n",
    "\n",
    "def math_operations(x):\n",
    "    \n",
    "    results = {\n",
    "        'logarithmic': math.log(x),\n",
    "        'exponential': math.exp(x),\n",
    "        'power_of_two': 2 ** x,\n",
    "        'square_root': math.sqrt(x)\n",
    "    }\n",
    "    \n",
    "    return results\n",
    "\n",
    "# Example usage:\n",
    "input_value = 4.0\n",
    "results_dict = math_operations(input_value)\n",
    "\n",
    "# Display the results\n",
    "print(f\"Input Value: {input_value}\")\n",
    "print(f\"Logarithmic: {results_dict['logarithmic']}\")\n",
    "print(f\"Exponential: {results_dict['exponential']}\")\n",
    "print(f\"Power of Two: {results_dict['power_of_two']}\")\n",
    "print(f\"Square Root: {results_dict['square_root']}\")\n"
   ]
  },
  {
   "cell_type": "raw",
   "id": "f8a36c19-47f2-4730-9b1a-0e745f7d53f0",
   "metadata": {},
   "source": [
    "9. Create a function that takes a full name as an argument and returns first name and last name"
   ]
  },
  {
   "cell_type": "code",
   "execution_count": 5,
   "id": "a3b4eec4-fda1-454d-8484-58b4d065112a",
   "metadata": {},
   "outputs": [
    {
     "name": "stdout",
     "output_type": "stream",
     "text": [
      "Full Name: Syed Sharfuddin\n",
      "First Name: Syed\n",
      "Last Name: Sharfuddin\n"
     ]
    }
   ],
   "source": [
    "def split_full_name(full_name):\n",
    "    \n",
    "    # Split the full name into individual parts\n",
    "    name_parts = full_name.split()\n",
    "    \n",
    "    # Determine the first name and last name based on the number of parts\n",
    "    if len(name_parts) == 1:\n",
    "        first_name, last_name = name_parts[0], ''\n",
    "    elif len(name_parts) == 2:\n",
    "        first_name, last_name = name_parts\n",
    "    else:\n",
    "        first_name, last_name = name_parts[0], ' '.join(name_parts[1:])\n",
    "    \n",
    "    return first_name, last_name\n",
    "\n",
    "# Example usage:\n",
    "full_name_input = \"Syed Sharfuddin\"\n",
    "first_name_result, last_name_result = split_full_name(full_name_input)\n",
    "\n",
    "# Display the results\n",
    "print(f\"Full Name: {full_name_input}\")\n",
    "print(f\"First Name: {first_name_result}\")\n",
    "print(f\"Last Name: {last_name_result}\")\n"
   ]
  }
 ],
 "metadata": {
  "kernelspec": {
   "display_name": "Python 3 (ipykernel)",
   "language": "python",
   "name": "python3"
  },
  "language_info": {
   "codemirror_mode": {
    "name": "ipython",
    "version": 3
   },
   "file_extension": ".py",
   "mimetype": "text/x-python",
   "name": "python",
   "nbconvert_exporter": "python",
   "pygments_lexer": "ipython3",
   "version": "3.10.6"
  }
 },
 "nbformat": 4,
 "nbformat_minor": 5
}
